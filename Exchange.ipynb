{
 "cells": [
  {
   "cell_type": "code",
   "execution_count": 3,
   "metadata": {},
   "outputs": [],
   "source": [
    "import numpy as np\n",
    "import pandas as pd\n",
    "import random as rn"
   ]
  },
  {
   "cell_type": "code",
   "execution_count": null,
   "metadata": {},
   "outputs": [],
   "source": [
    "market_data = 10"
   ]
  },
  {
   "cell_type": "markdown",
   "metadata": {},
   "source": [
    "Need a generation process for contracts \n",
    "* And a secondary market\n",
    "\n",
    "Initial Price\n",
    "* Brownian fluctuation"
   ]
  },
  {
   "cell_type": "code",
   "execution_count": 12,
   "metadata": {},
   "outputs": [],
   "source": [
    "class Market_Data():\n",
    "    \n",
    "    def __init__(self, products = 10, contracts_per_product = 5):\n",
    "        data = {}\n",
    "        cme_month_labels = [\"F\", \"G\", \"H\", \"J\", \"K\", \"M\", \"N\", \"Q\", \"U\", \"V\", \"X\", \"Z\"]\n",
    "        for product in range(products):\n",
    "            product_code_base = chr(rn.randint(ord('A'), ord('Z'))) + chr(rn.randint(ord('A'), ord('Z')))\n",
    "            for month in range(min([12, contracts_per_product])):\n",
    "                product_code = product_code_base + cme_month_labels[month] + \"4\"\n",
    "                data[product_code] = {\"Price\": rn.rando, \n",
    "                                      \"Tick\": rn.sample([12.50, 2.50, 6.25], 1)[0]\n",
    "                                      \n",
    "                                      \n",
    "                                      }\n",
    "\n"
   ]
  },
  {
   "cell_type": "code",
   "execution_count": 2,
   "metadata": {},
   "outputs": [],
   "source": [
    "class Exchange():\n",
    "\n",
    "    def __init__(self, members = 10, products = 5):\n",
    "        \n",
    "        self.members = []\n",
    "        self.products = []\n",
    "        self.trading_products = rn.sample(market_data[\"Code\"].to_list(), products)\n",
    "        self.orders = dict(zip(self.trading_products, [{{}, {}}] * products))\n",
    "\n",
    "        for member_id in rn.sample(range(1000, 9999), members):\n",
    "            self.members.append(Member(member_id))\n",
    "\n",
    "        for product_code in self.trading_products:\n",
    "            self.products.append(Product(product_code))\n",
    "\n",
    "    \n",
    "    def make_order(self, member, code, price, volume):\n",
    "        if price > 0:\n",
    "            if price in self.orders[code][0]:\n",
    "                self.orders[code][0][price].append((member.id, volume))\n",
    "        else:\n",
    "            if price in self.orders[code][0]:\n",
    "                self.orders[code][1][price].append((member.id, volume))\n",
    "\n",
    "\n",
    "class Member():\n",
    "    \n",
    "    def __init__(self, id, capital = 100000):\n",
    "        self.capital = capital\n",
    "        self.id = id\n",
    "\n",
    "class Product():\n",
    "    def __init__(self, code = \"ESU4\", cap = 10e7, volume = 10e4):\n",
    "        self.code = code\n",
    "        self.volume = volume \n",
    "        self.cap = cap\n",
    "        self.price = self.cap/self.volume\n",
    "    "
   ]
  },
  {
   "cell_type": "code",
   "execution_count": 11,
   "metadata": {},
   "outputs": [
    {
     "data": {
      "text/plain": [
       "'Q'"
      ]
     },
     "execution_count": 11,
     "metadata": {},
     "output_type": "execute_result"
    }
   ],
   "source": []
  }
 ],
 "metadata": {
  "kernelspec": {
   "display_name": "Python 3",
   "language": "python",
   "name": "python3"
  },
  "language_info": {
   "codemirror_mode": {
    "name": "ipython",
    "version": 3
   },
   "file_extension": ".py",
   "mimetype": "text/x-python",
   "name": "python",
   "nbconvert_exporter": "python",
   "pygments_lexer": "ipython3",
   "version": "3.12.2"
  }
 },
 "nbformat": 4,
 "nbformat_minor": 2
}
