{
 "cells": [
  {
   "cell_type": "code",
   "execution_count": 2,
   "metadata": {},
   "outputs": [],
   "source": [
    "import numpy as np"
   ]
  },
  {
   "cell_type": "code",
   "execution_count": 3,
   "metadata": {},
   "outputs": [],
   "source": [
    "@np.vectorize\n",
    "def round_tick(price, tick_size):\n",
    "    return tick_size * round(price/tick_size)"
   ]
  },
  {
   "cell_type": "code",
   "execution_count": null,
   "metadata": {},
   "outputs": [],
   "source": [
    "class Exchange():\n",
    "\n",
    "    def __init__(self):\n",
    "        \n",
    "        self.products = {}\n",
    "        self.prices = {}\n",
    "        self.users = {}\n",
    "        self.perceived_prices = {}\n",
    "    \n",
    "\n",
    "    def add_product(self, identifier, market_cap, volume, tick_size):\n",
    "        self.products[identifier] = {\"market_cap\": market_cap, \"volume\": volume, \"tick_size\": tick_size}\n",
    "        self.prices[identifier] = round((market_cap/volume)/tick_size) * tick_size #This slightly changes market_cap by rounding the price to the discrete plane\n",
    "\n",
    "\n",
    "    def add_user(self, user_id, capital):\n",
    "        self.users[user_id] = {\"capital\": capital}\n",
    "\n",
    "\n",
    "    #def add_trade(self, user_id, amount):\n",
    "        #check capital and capacity to ensure trade possible for user\n",
    "\n",
    "    def add_trade(self, user_id, identifier, price, volume):\n",
    "        #Needs to support partial fill of order\n",
    "        return 0\n",
    "\n",
    "\n",
    "    def open_exchange(self):\n",
    "        self.perceived_prices = np.zeros((len(self.users), len(self.products))) + np.array(list(self.prices.values())) + \\\n",
    "        np.transpose([round_tick(np.random.normal(0, np.sqrt(self.prices[product]), len(self.users))/self.prices[product], self.products[product][\"tick_size\"]) for product in self.products])\n",
    "\n",
    "        self.user_sentiment = (self.perceived_prices - np.zeros((len(self.users), len(self.products))) - np.array(list(self.prices.values())))/np.array(list(self.prices.values()))\n",
    "\n",
    "        \n",
    "\n",
    "        #sentiment = (self.perceived_prices - self.prices)/self.prices\n",
    "\n",
    "        # for user in self.users:\n",
    "        #     favourite = \n",
    "            \n",
    "            "
   ]
  },
  {
   "cell_type": "code",
   "execution_count": 5,
   "metadata": {},
   "outputs": [
    {
     "data": {
      "text/plain": [
       "{'products': {'Apple': {'market_cap': 100000000.0,\n",
       "   'volume': 100000.0,\n",
       "   'tick_size': 0.025},\n",
       "  'Microsoft': {'market_cap': 200000000.0,\n",
       "   'volume': 100000.0,\n",
       "   'tick_size': 0.025}},\n",
       " 'prices': {'Apple': 1000.0, 'Microsoft': 2000.0},\n",
       " 'users': {'James': {'capital': 100000.0},\n",
       "  'Bob': {'capital': 400000.0},\n",
       "  'Adam': {'capital': 1000000.0}},\n",
       " 'perceived_prices': array([[ 999.975, 1999.975],\n",
       "        [1000.   , 2000.025],\n",
       "        [ 999.975, 2000.025]]),\n",
       " 'user_sentiment': array([[-2.50e-05, -1.25e-05],\n",
       "        [ 0.00e+00,  1.25e-05],\n",
       "        [-2.50e-05,  1.25e-05]])}"
      ]
     },
     "execution_count": 5,
     "metadata": {},
     "output_type": "execute_result"
    }
   ],
   "source": [
    "exchange = Exchange()\n",
    "exchange.add_product(identifier = \"Apple\", market_cap = 10e7, volume = 10e4, tick_size = 1/40)\n",
    "exchange.add_product(identifier = \"Microsoft\", market_cap = 2*10e7, volume = 10e4, tick_size = 1/40)\n",
    "exchange.add_user(user_id = \"James\", capital = 10e4)\n",
    "exchange.add_user(user_id = \"Bob\", capital = 4*10e4)\n",
    "exchange.add_user(user_id = \"Adam\", capital = 10e5)\n",
    "exchange.open_exchange()\n",
    "#Now we have an exchange, owner of all stocks is exchange, price is initial price, perceived price is initial price\n",
    "vars(exchange)"
   ]
  }
 ],
 "metadata": {
  "kernelspec": {
   "display_name": "Python 3",
   "language": "python",
   "name": "python3"
  },
  "language_info": {
   "codemirror_mode": {
    "name": "ipython",
    "version": 3
   },
   "file_extension": ".py",
   "mimetype": "text/x-python",
   "name": "python",
   "nbconvert_exporter": "python",
   "pygments_lexer": "ipython3",
   "version": "3.12.9"
  }
 },
 "nbformat": 4,
 "nbformat_minor": 2
}
