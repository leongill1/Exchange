{
 "cells": [
  {
   "cell_type": "code",
   "execution_count": 2,
   "metadata": {},
   "outputs": [],
   "source": [
    "import numpy as np"
   ]
  },
  {
   "cell_type": "code",
   "execution_count": 3,
   "metadata": {},
   "outputs": [],
   "source": [
    "@np.vectorize\n",
    "def round_tick(price, tick_size):\n",
    "    return tick_size * round(price/tick_size)"
   ]
  },
  {
   "cell_type": "code",
   "execution_count": null,
   "metadata": {},
   "outputs": [],
   "source": [
    "class Exchange():\n",
    "\n",
    "    def __init__(self):\n",
    "        \n",
    "        self.products = {}\n",
    "        self.prices = {}\n",
    "        self.users = {}\n",
    "        self.perceived_prices = {}\n",
    "        self.order_book = {}\n",
    "        self.ownership_book = {}\n",
    "    \n",
    "\n",
    "    def add_product(self, identifier, market_cap, volume, tick_size):\n",
    "        self.products[identifier] = {\"market_cap\": market_cap, \"volume\": volume, \"tick_size\": tick_size}\n",
    "        self.order_book[identifier] = {\"buy\": {}, \"sell\": {}}\n",
    "        self.prices[identifier] = round((market_cap/volume)/tick_size) * tick_size #This slightly changes market_cap by rounding the price to the discrete plane\n",
    "        self.ownership_book[identifier] = {\"exchange\": volume} #Exchange owns everything\n",
    "\n",
    "    def add_user(self, user_id, capital):\n",
    "        self.users[user_id] = {\"capital\": capital, \"usable_capital\": capital}\n",
    "\n",
    "    def transfer_product(self, user_id_1, user_id_2, identifier, trade_volume, direction):\n",
    "        self.ownership_book[identifier][user_id_1] += {\"buy\": 1, \"sell\": -1}[direction]*trade_volume\n",
    "        self.ownership_book[identifier][user_id_2] += {\"buy\": 1, \"sell\": -1}[direction]*trade_volume\n",
    "\n",
    "    def transfer_capital(self, user_id_1, user_id_2, trade_volume, price, direction):\n",
    "        self.users[user_id_1][\"capital\"] += {\"buy\": 1, \"sell\": -1}[direction]*trade_volume*price\n",
    "        self.users[user_id_2][\"capital\"] += {\"buy\": 1, \"sell\": -1}[direction]*trade_volume*price\n",
    "\n",
    "        #whetver makes money gets an increase to usable capital\n",
    "        if direction == \"sell\":\n",
    "            self.users[user_id_1][\"usable_capital\"] += {\"buy\": 1, \"sell\": -1}[direction]*trade_volume*price\n",
    "        else:\n",
    "            self.users[user_id_2][\"usable_capital\"] += {\"buy\": 1, \"sell\": -1}[direction]*trade_volume*price\n",
    "    \n",
    "\n",
    "    def add_order(self, user_id, identifier, price, volume):\n",
    "        direction = \"buy\" if volume > 0 else \"sell\"\n",
    "        if self.order_book[identifier][direction][price] is None:\n",
    "            self.order_book[identifier][direction][price][\"orders\"] = []\n",
    "            self.order_book[identifier][direction][price][\"total\"] = 0\n",
    "        self.order_book[identifier][direction][price][\"orders\"].append((user_id, abs(volume)))\n",
    "        self.order_book[identifier][direction][price][\"total\"] += abs(volume)\n",
    "        \n",
    "        if direction == \"buy\":\n",
    "            self.users[\"usable_capital\"] -= volume*price # users total active orders cannot exceed their capital\n",
    "\n",
    "        if direction == \"buy\":\n",
    "            if sum([self.order_book[identifier][\"sell\"][key][\"total\"] for key in self.order_book[identifier][\"sell\"].keys() if key <= price]) > 0:\n",
    "                self.add_trade(self, user_id, identifier, price, volume)\n",
    "            \n",
    "        if direction == \"sell\":\n",
    "            if sum([self.order_book[identifier][\"buy\"][key][\"total\"] for key in self.order_book[identifier][\"buy\"].keys() if key >= price]) > 0:\n",
    "                self.add_trade(self, user_id, identifier, price, volume)                \n",
    "\n",
    "\n",
    "\n",
    "    def add_trade(self, user_id_1, identifier, price, volume):#repeat trades in here until filled or cant fill anymore\n",
    "        direction = \"buy\" if volume > 0 else \"sell\"\n",
    "        while volume > 0:\n",
    "            if volume > self.order_book[identifier][direction][price][0]:\n",
    "                user_id_2 = self.order_book[identifier][direction][price][0][0]\n",
    "                trade_volume = self.order_book[identifier][direction][price][0][1]\n",
    "                self.order_book[identifier][direction][price].pop(0)\n",
    "                volume -= trade_volume\n",
    "\n",
    "                #transfer ownership and adjust capital\n",
    "                self.transfer_product(self, user_id_1, user_id_2, identifier, trade_volume, direction)\n",
    "                self.transfer_capital(self, user_id_1, user_id_2, trade_volume, price, direction)\n",
    "\n",
    "\n",
    "    def open_exchange(self):\n",
    "        #self.perceived_prices = np.zeros((len(self.users), len(self.products))) + np.array(list(self.prices.values())) + \\\n",
    "        #np.transpose([round_tick(np.random.normal(0, np.sqrt(self.prices[product]), len(self.users))/self.prices[product], self.products[product][\"tick_size\"]) for product in self.products])\n",
    "        #self.user_sentiment = (self.perceived_prices - np.zeros((len(self.users), len(self.products))) - np.array(list(self.prices.values())))/np.array(list(self.prices.values()))\n",
    "\n",
    "\n",
    "        #sentiment = (self.perceived_prices - self.prices)/self.prices\n",
    "\n",
    "        # for user in self.users:\n",
    "        #     favourite = \n",
    "            \n",
    "        \n",
    "        #someone has made an order\n",
    "        current_identifier = 1\n",
    "        current_volume = 1\n",
    "        current_price = 1\n",
    "        if \n",
    "\n",
    "\n",
    "\n",
    "\n",
    "\n",
    "\n",
    "\n",
    "\n",
    "\n",
    "\n",
    "\n",
    "\n",
    "\n",
    "\n",
    "\n",
    "\n",
    "\n",
    "\n",
    "\n",
    "\n",
    "            "
   ]
  },
  {
   "cell_type": "code",
   "execution_count": 7,
   "metadata": {},
   "outputs": [
    {
     "ename": "TypeError",
     "evalue": "'>' not supported between instances of 'list' and 'int'",
     "output_type": "error",
     "traceback": [
      "\u001b[1;31m---------------------------------------------------------------------------\u001b[0m",
      "\u001b[1;31mTypeError\u001b[0m                                 Traceback (most recent call last)",
      "Cell \u001b[1;32mIn[7], line 1\u001b[0m\n\u001b[1;32m----> 1\u001b[0m \u001b[38;5;28many\u001b[39m(\u001b[43m[\u001b[49m\u001b[38;5;241;43m1\u001b[39;49m\u001b[43m,\u001b[49m\u001b[38;5;241;43m2\u001b[39;49m\u001b[43m,\u001b[49m\u001b[38;5;241;43m3\u001b[39;49m\u001b[43m]\u001b[49m\u001b[43m \u001b[49m\u001b[38;5;241;43m>\u001b[39;49m\u001b[43m \u001b[49m\u001b[38;5;241;43m0\u001b[39;49m)\n",
      "\u001b[1;31mTypeError\u001b[0m: '>' not supported between instances of 'list' and 'int'"
     ]
    }
   ],
   "source": [
    "any([1,2,3] > 0)"
   ]
  },
  {
   "cell_type": "code",
   "execution_count": 6,
   "metadata": {},
   "outputs": [
    {
     "data": {
      "text/plain": [
       "1"
      ]
     },
     "execution_count": 6,
     "metadata": {},
     "output_type": "execute_result"
    }
   ],
   "source": [
    "sum([1,2,3][:1])"
   ]
  },
  {
   "cell_type": "code",
   "execution_count": 5,
   "metadata": {},
   "outputs": [
    {
     "data": {
      "text/plain": [
       "[-1, 1, 3]"
      ]
     },
     "execution_count": 5,
     "metadata": {},
     "output_type": "execute_result"
    }
   ],
   "source": [
    "sorted([1,3,-1])"
   ]
  },
  {
   "cell_type": "code",
   "execution_count": null,
   "metadata": {},
   "outputs": [],
   "source": [
    "#when adding an order, check the opposite side\n",
    "    #if buy\n",
    "        #check all prices at or below the order price, counting from the lowest price\n",
    "\n",
    "\n"
   ]
  },
  {
   "cell_type": "code",
   "execution_count": 4,
   "metadata": {},
   "outputs": [
    {
     "data": {
      "text/plain": [
       "'hi'"
      ]
     },
     "execution_count": 4,
     "metadata": {},
     "output_type": "execute_result"
    }
   ],
   "source": [
    "test = [\"hi\", \"low\"]\n",
    "hm = test.pop(0)\n",
    "test\n",
    "hm"
   ]
  },
  {
   "cell_type": "code",
   "execution_count": 5,
   "metadata": {},
   "outputs": [
    {
     "data": {
      "text/plain": [
       "{'products': {'Apple': {'market_cap': 100000000.0,\n",
       "   'volume': 100000.0,\n",
       "   'tick_size': 0.025},\n",
       "  'Microsoft': {'market_cap': 200000000.0,\n",
       "   'volume': 100000.0,\n",
       "   'tick_size': 0.025}},\n",
       " 'prices': {'Apple': 1000.0, 'Microsoft': 2000.0},\n",
       " 'users': {'James': {'capital': 100000.0},\n",
       "  'Bob': {'capital': 400000.0},\n",
       "  'Adam': {'capital': 1000000.0}},\n",
       " 'perceived_prices': array([[ 999.975, 1999.975],\n",
       "        [1000.   , 2000.025],\n",
       "        [ 999.975, 2000.025]]),\n",
       " 'user_sentiment': array([[-2.50e-05, -1.25e-05],\n",
       "        [ 0.00e+00,  1.25e-05],\n",
       "        [-2.50e-05,  1.25e-05]])}"
      ]
     },
     "execution_count": 5,
     "metadata": {},
     "output_type": "execute_result"
    }
   ],
   "source": [
    "exchange = Exchange()\n",
    "exchange.add_product(identifier = \"Apple\", market_cap = 10e7, volume = 10e4, tick_size = 1/40)\n",
    "exchange.add_product(identifier = \"Microsoft\", market_cap = 2*10e7, volume = 10e4, tick_size = 1/40)\n",
    "exchange.add_user(user_id = \"James\", capital = 10e4)\n",
    "exchange.add_user(user_id = \"Bob\", capital = 4*10e4)\n",
    "exchange.add_user(user_id = \"Adam\", capital = 10e5)\n",
    "exchange.open_exchange()\n",
    "#Now we have an exchange, owner of all stocks is exchange, price is initial price, perceived price is initial price\n",
    "vars(exchange)"
   ]
  }
 ],
 "metadata": {
  "kernelspec": {
   "display_name": "Python 3",
   "language": "python",
   "name": "python3"
  },
  "language_info": {
   "codemirror_mode": {
    "name": "ipython",
    "version": 3
   },
   "file_extension": ".py",
   "mimetype": "text/x-python",
   "name": "python",
   "nbconvert_exporter": "python",
   "pygments_lexer": "ipython3",
   "version": "3.12.9"
  }
 },
 "nbformat": 4,
 "nbformat_minor": 2
}
