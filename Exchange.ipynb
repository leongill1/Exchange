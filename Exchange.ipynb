{
 "cells": [
  {
   "cell_type": "code",
   "execution_count": 1,
   "metadata": {},
   "outputs": [],
   "source": [
    "import numpy as np\n",
    "import pandas as pd\n",
    "import random as rn\n",
    "import matplotlib.pyplot as plt"
   ]
  },
  {
   "cell_type": "code",
   "execution_count": 2,
   "metadata": {},
   "outputs": [],
   "source": [
    "market_data = pd.read_csv(\"Market_Data.csv\", index_col = \"Codes\").sort_index()"
   ]
  },
  {
   "cell_type": "code",
   "execution_count": 13,
   "metadata": {},
   "outputs": [],
   "source": [
    "class Exchange():\n",
    "\n",
    "    def __init__(self, members = 10, products = 5):\n",
    "        \n",
    "        self.members = []\n",
    "        self.products = []\n",
    "        self.percieved_prices = np.zeros(members, products)\n",
    "        for member in range(members):\n",
    "            for product in range(products):\n",
    "                    self.percieved_prices[member, product] = market_data.loc[self.products[product]][\"Price\"]\n",
    "\n",
    "\n",
    "\n",
    "        self.trading_products = rn.sample(market_data.index.to_list(), products)\n",
    "        self.orders = dict(zip(self.trading_products, [{}, {}] * products))\n",
    "\n",
    "        for member_id in rn.sample(range(1000, 9999), members):\n",
    "            self.members.append(Member(member_id))\n",
    "\n",
    "        for product_code in self.trading_products:\n",
    "            self.products.append(Product(product_code))\n",
    "\n",
    "        \n",
    "\n",
    "    \n",
    "    def make_order(self, member, code, price, volume):\n",
    "        if price > 0:\n",
    "            if price in self.orders[code][0]:\n",
    "                self.orders[code][0][price].append((member.id, volume))\n",
    "        else:\n",
    "            if price in self.orders[code][0]:\n",
    "                self.orders[code][1][price].append((member.id, volume))\n",
    "\n",
    "    def tick(self):\n",
    "        tick_duration = np.random.lognormal(1, 1, 1)[0]\n",
    "        volatility_scalar = (self.prices/5)/np.sqrt(252 * 24 * 60 * 60/ tick_duration)\n",
    "        self.percieved_prices = self.percieved_prices\n",
    "        \n",
    "        old_price * np.random.normal(price, volatility_scalar, 1)[0]\n",
    "\n",
    "\n",
    "\n",
    "\n",
    "\n",
    "class Member():\n",
    "    \n",
    "    def __init__(self, id, capital = 100000):\n",
    "        self.capital = capital\n",
    "        self.id = id\n",
    "\n",
    "class Product():\n",
    "    def __init__(self, code = \"ESU4\", cap = 10e7, volume = 10e4):\n",
    "        self.code = code\n",
    "        self.volume = volume \n",
    "        self.cap = cap\n",
    "        self.price = self.cap/self.volume"
   ]
  },
  {
   "cell_type": "markdown",
   "metadata": {},
   "source": [
    "Need a generation process for contracts \n",
    "* And a secondary market\n",
    "\n",
    "Initial Price\n",
    "* Brownian fluctuation\n",
    "\n",
    "ticks - [12.50, 2.50, 6.25]\n",
    "\n",
    "ticking the exchange\n",
    "\n",
    "1. Brownian each member's theoretical value of each stock  - member matrix which is members * products dimension\n",
    "2. based on that and how value and the current price, act accordingly. if large, buy/sell many orders. \n",
    "    * Keep track of age of orders so they decay in time. \n",
    "\n",
    "\n",
    "    handy matrix. Use nps not matmult, rather * with a matrix of standard deviations where cols are constant and rows are per person\n",
    "    maybe just a row vector will work, csee how np works"
   ]
  },
  {
   "cell_type": "code",
   "execution_count": 19,
   "metadata": {},
   "outputs": [
    {
     "data": {
      "text/plain": [
       "array([[ 1,  4,  9],\n",
       "       [ 4, 10, 18],\n",
       "       [ 7, 16, 27]])"
      ]
     },
     "execution_count": 19,
     "metadata": {},
     "output_type": "execute_result"
    }
   ],
   "source": [
    "np.array([[1,2,3], [4,5,6], [7,8,9]]) * np.array([1,2,3])\n",
    "varying per_tick * constant vector (or chanigng with price) maybe * (sqrt(price))"
   ]
  },
  {
   "cell_type": "markdown",
   "metadata": {},
   "source": [
    "daily vol = annual/16\n",
    "tick vol scalar = sqrt(seconds in tick/(16 * 60 * 60 * annual/16))"
   ]
  },
  {
   "cell_type": "code",
   "execution_count": null,
   "metadata": {},
   "outputs": [],
   "source": [
    "inititally\n",
    "\n",
    "\n",
    "daily vol = (price/5)/16\n",
    "\n"
   ]
  },
  {
   "cell_type": "code",
   "execution_count": 14,
   "metadata": {},
   "outputs": [
    {
     "data": {
      "text/plain": [
       "{'members': [<__main__.Member at 0x15404203dd0>,\n",
       "  <__main__.Member at 0x15404202990>,\n",
       "  <__main__.Member at 0x15404202060>,\n",
       "  <__main__.Member at 0x15464a7c4a0>,\n",
       "  <__main__.Member at 0x15464a7de50>,\n",
       "  <__main__.Member at 0x1540425d820>,\n",
       "  <__main__.Member at 0x1540425dee0>,\n",
       "  <__main__.Member at 0x1540425ddf0>,\n",
       "  <__main__.Member at 0x1540425de80>,\n",
       "  <__main__.Member at 0x1540425dd90>],\n",
       " 'products': [<__main__.Product at 0x1540425df10>,\n",
       "  <__main__.Product at 0x1547f3bd970>,\n",
       "  <__main__.Product at 0x1547f5424b0>,\n",
       "  <__main__.Product at 0x1540425dfa0>,\n",
       "  <__main__.Product at 0x1540425d4f0>],\n",
       " 'trading_products': ['BZU4', 'MESU4', 'SR3Z4', 'RTYU4', 'GCQ4'],\n",
       " 'orders': {'BZU4': {}, 'MESU4': {}, 'SR3Z4': {}, 'RTYU4': {}, 'GCQ4': {}}}"
      ]
     },
     "execution_count": 14,
     "metadata": {},
     "output_type": "execute_result"
    }
   ],
   "source": []
  }
 ],
 "metadata": {
  "kernelspec": {
   "display_name": "Python 3",
   "language": "python",
   "name": "python3"
  },
  "language_info": {
   "codemirror_mode": {
    "name": "ipython",
    "version": 3
   },
   "file_extension": ".py",
   "mimetype": "text/x-python",
   "name": "python",
   "nbconvert_exporter": "python",
   "pygments_lexer": "ipython3",
   "version": "3.12.2"
  }
 },
 "nbformat": 4,
 "nbformat_minor": 2
}
