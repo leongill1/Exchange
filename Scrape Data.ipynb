{
 "cells": [
  {
   "cell_type": "code",
   "execution_count": 5,
   "metadata": {},
   "outputs": [],
   "source": [
    "from bs4 import BeautifulSoup\n",
    "from selenium import webdriver\n",
    "import pandas as pd"
   ]
  },
  {
   "cell_type": "code",
   "execution_count": 6,
   "metadata": {},
   "outputs": [],
   "source": [
    "links = []\n",
    "\n",
    "for page_number in range(1, 7):\n",
    "    url = f\"https://www.cmegroup.com/markets/products.html#pageNumber={page_number}&sortDirection=desc&sortField=oi\"\n",
    "    driver = webdriver.Edge()\n",
    "    driver.get(url)\n",
    "    soup = BeautifulSoup(driver.page_source, 'html.parser')\n",
    "    driver.quit()\n",
    "\n",
    "    for link in soup.find_all('a', href=True):\n",
    "        if \"optionProductId\" in link['href']:\n",
    "            links.append(link['href'])"
   ]
  },
  {
   "cell_type": "code",
   "execution_count": 12,
   "metadata": {},
   "outputs": [
    {
     "name": "stdout",
     "output_type": "stream",
     "text": [
      "11\n",
      "16\n",
      "17\n",
      "24\n",
      "31\n",
      "32\n",
      "33\n",
      "34\n",
      "37\n",
      "38\n",
      "41\n",
      "52\n",
      "53\n",
      "54\n",
      "55\n",
      "64\n",
      "72\n",
      "75\n",
      "76\n",
      "79\n",
      "85\n",
      "86\n",
      "88\n",
      "97\n"
     ]
    }
   ],
   "source": [
    "data = {\"Links\": [], \"Codes\": [], \"Price\": [], \"Volume\": []}\n",
    "\n",
    "for link_number in range(0, 100):\n",
    "    \n",
    "    url = f\"https://www.cmegroup.com\" + links[link_number]\n",
    "    driver = webdriver.Edge()\n",
    "    driver.get(url)\n",
    "    soup = BeautifulSoup(driver.page_source, 'html.parser')\n",
    "    driver.quit()\n",
    "    try:\n",
    "        base = soup.text.split(\"Code\")[1].replace(\"Last\", \"PLACEHOLDER\").replace(\"Change\", \"PLACEHOLDER\").replace(\")\", \"\").replace(\"(\", \"PLACEHOLDER\").replace(\"Volume\", \"PLACEHOLDER\").replace(\"Watchlists\", \"PLACEHOLDER\").split(\"PLACEHOLDER\")\n",
    "        code = base[0]\n",
    "        price = float(base[1].replace(\"'\", \"\"))\n",
    "        volume = int(base[4].replace(\",\", \"\"))\n",
    "\n",
    "        data[\"Links\"].append(url)\n",
    "        data[\"Codes\"].append(code)\n",
    "        data[\"Price\"].append(price)\n",
    "        data[\"Volume\"].append(volume)        \n",
    "    except ValueError:\n",
    "        print(link_number)\n",
    "        continue\n",
    "        "
   ]
  },
  {
   "cell_type": "code",
   "execution_count": 14,
   "metadata": {},
   "outputs": [],
   "source": [
    "pd.DataFrame(data).to_csv(\"Market_Data.csv\", index = False)"
   ]
  }
 ],
 "metadata": {
  "kernelspec": {
   "display_name": "Python 3",
   "language": "python",
   "name": "python3"
  },
  "language_info": {
   "codemirror_mode": {
    "name": "ipython",
    "version": 3
   },
   "file_extension": ".py",
   "mimetype": "text/x-python",
   "name": "python",
   "nbconvert_exporter": "python",
   "pygments_lexer": "ipython3",
   "version": "3.11.9"
  }
 },
 "nbformat": 4,
 "nbformat_minor": 2
}
