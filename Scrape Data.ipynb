{
 "cells": [
  {
   "cell_type": "code",
   "execution_count": 19,
   "metadata": {},
   "outputs": [],
   "source": [
    "from bs4 import BeautifulSoup\n",
    "from selenium import webdriver\n",
    "import pandas as pd"
   ]
  },
  {
   "cell_type": "code",
   "execution_count": 9,
   "metadata": {},
   "outputs": [],
   "source": [
    "links = []\n",
    "\n",
    "for page_number in range(1, 7):\n",
    "    url = f\"https://www.cmegroup.com/markets/products.html#pageNumber={page_number}&sortDirection=desc&sortField=oi\"\n",
    "    driver = webdriver.Edge(r\"C:\\Users\\e1734\\OneDrive\\Desktop\\edgedriver_win64\\msedgedriver\")\n",
    "    driver.get(url)\n",
    "    soup = BeautifulSoup(driver.page_source, 'html.parser')\n",
    "    driver.quit()\n",
    "\n",
    "    for link in soup.find_all('a', href=True):\n",
    "        if \"optionProductId\" in link['href']:\n",
    "            links.append(link['href'])"
   ]
  },
  {
   "cell_type": "code",
   "execution_count": 17,
   "metadata": {},
   "outputs": [],
   "source": [
    "data = {\"Links\": [], \"Codes\": [], \"Price\": [], \"Volume\": []}\n",
    "\n",
    "for link_number in range(0, 2):\n",
    "    \n",
    "    url = f\"https://www.cmegroup.com\" + links[link_number]\n",
    "    #driver = webdriver.Edge(r\"C:\\Users\\e1734\\OneDrive\\Desktop\\edgedriver_win64\\msedgedriver\")\n",
    "    driver = webdriver.Edge(r\"C:\\Users\\e1734\\OneDrive\\Desktop\\edgedriver_win64\\msedgedriver\")\n",
    "    driver.get(url)\n",
    "    soup = BeautifulSoup(driver.page_source, 'html.parser')\n",
    "    driver.quit()\n",
    "    try:\n",
    "        base = soup.text.split(\"Code\")[1].replace(\"Last\", \"PLACEHOLDER\").replace(\"Change\", \"PLACEHOLDER\").replace(\")\", \"\").replace(\"(\", \"PLACEHOLDER\").replace(\"Volume\", \"PLACEHOLDER\").replace(\"Watchlists\", \"PLACEHOLDER\").split(\"PLACEHOLDER\")\n",
    "        data[url] = {\"Code\": base[0],\n",
    "                    \"Price\": float(base[1].replace(\"'\", \"\")),\n",
    "                    \"Volume\": int(base[4].replace(\",\", \"\"))}\n",
    "        \n",
    "    except ValueError:\n",
    "        continue"
   ]
  },
  {
   "cell_type": "code",
   "execution_count": 41,
   "metadata": {},
   "outputs": [],
   "source": [
    "data = {\"Links\": [], \"Codes\": [], \"Price\": [], \"Volume\": []}\n",
    "\n",
    "for link_number in range(0, 2):\n",
    "    \n",
    "    url = f\"https://www.cmegroup.com\" + links[link_number]\n",
    "    driver = webdriver.Edge(r\"C:\\Users\\e1734\\OneDrive\\Desktop\\edgedriver_win64\\msedgedriver\")\n",
    "    driver.get(url)\n",
    "    soup = BeautifulSoup(driver.page_source, 'html.parser')\n",
    "    driver.quit()\n",
    "    try:\n",
    "        base = soup.text.split(\"Code\")[1].replace(\"Last\", \"PLACEHOLDER\").replace(\"Change\", \"PLACEHOLDER\").replace(\")\", \"\").replace(\"(\", \"PLACEHOLDER\").replace(\"Volume\", \"PLACEHOLDER\").replace(\"Watchlists\", \"PLACEHOLDER\").split(\"PLACEHOLDER\")\n",
    "        code = base[0]\n",
    "        price = float(base[1].replace(\"'\", \"\"))\n",
    "        volume = int(base[4].replace(\",\", \"\"))\n",
    "\n",
    "        data[\"Links\"].append(url)\n",
    "        data[\"Codes\"].append(code)\n",
    "        data[\"Price\"].append(price)\n",
    "        data[\"Volume\"].append(volume)        \n",
    "    except ValueError:\n",
    "        print(link_number)\n",
    "        continue\n",
    "        "
   ]
  },
  {
   "cell_type": "code",
   "execution_count": 42,
   "metadata": {},
   "outputs": [
    {
     "data": {
      "text/html": [
       "<div>\n",
       "<style scoped>\n",
       "    .dataframe tbody tr th:only-of-type {\n",
       "        vertical-align: middle;\n",
       "    }\n",
       "\n",
       "    .dataframe tbody tr th {\n",
       "        vertical-align: top;\n",
       "    }\n",
       "\n",
       "    .dataframe thead th {\n",
       "        text-align: right;\n",
       "    }\n",
       "</style>\n",
       "<table border=\"1\" class=\"dataframe\">\n",
       "  <thead>\n",
       "    <tr style=\"text-align: right;\">\n",
       "      <th></th>\n",
       "      <th>Links</th>\n",
       "      <th>Codes</th>\n",
       "      <th>Price</th>\n",
       "      <th>Volume</th>\n",
       "    </tr>\n",
       "  </thead>\n",
       "  <tbody>\n",
       "    <tr>\n",
       "      <th>0</th>\n",
       "      <td>https://www.cmegroup.com/trading/interest-rate...</td>\n",
       "      <td>SR3Z4</td>\n",
       "      <td>95.360</td>\n",
       "      <td>251645</td>\n",
       "    </tr>\n",
       "    <tr>\n",
       "      <th>1</th>\n",
       "      <td>https://www.cmegroup.com/trading/energy/natura...</td>\n",
       "      <td>NGQ4</td>\n",
       "      <td>2.129</td>\n",
       "      <td>30997</td>\n",
       "    </tr>\n",
       "  </tbody>\n",
       "</table>\n",
       "</div>"
      ],
      "text/plain": [
       "                                               Links  Codes   Price  Volume\n",
       "0  https://www.cmegroup.com/trading/interest-rate...  SR3Z4  95.360  251645\n",
       "1  https://www.cmegroup.com/trading/energy/natura...   NGQ4   2.129   30997"
      ]
     },
     "execution_count": 42,
     "metadata": {},
     "output_type": "execute_result"
    }
   ],
   "source": [
    "pd.DataFrame(data)"
   ]
  }
 ],
 "metadata": {
  "kernelspec": {
   "display_name": "Python 3",
   "language": "python",
   "name": "python3"
  },
  "language_info": {
   "codemirror_mode": {
    "name": "ipython",
    "version": 3
   },
   "file_extension": ".py",
   "mimetype": "text/x-python",
   "name": "python",
   "nbconvert_exporter": "python",
   "pygments_lexer": "ipython3",
   "version": "3.12.2"
  }
 },
 "nbformat": 4,
 "nbformat_minor": 2
}
